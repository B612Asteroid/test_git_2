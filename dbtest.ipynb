{
 "cells": [
  {
   "cell_type": "code",
   "execution_count": 13,
   "id": "fe0d9588",
   "metadata": {
    "scrolled": true
   },
   "outputs": [],
   "source": [
    "import pymysql\n",
    "\n",
    "connection = pymysql.connect(host = 'localhost', user = 'testUser', password = '1111', db = 'testdb', charset = 'utf8')\n",
    "\n",
    "# cursor 결과를 데이터 딕셔너리로 자동으로 바꿔주는 옵션이 있다고 해요.\n",
    "# pymysql.cursors.DictCursor\n",
    "cursor = connection.cursor(pymysql.cursors.DictCursor)\n",
    "\n",
    "SQL = '''\n",
    "    SELECT\n",
    "        *\n",
    "    FROM\n",
    "        `member`\n",
    "'''\n",
    "cursor.execute(SQL)\n",
    "\n",
    "datas = cursor.fetchall() # 커서에 있던 쿼리의 결과물을 변수에 담았기 때문에 커넥션을 닫아도 데이터가 나오게 되는 것이다.\n",
    "connection.close()"
   ]
  },
  {
   "cell_type": "code",
   "execution_count": 19,
   "id": "1abd13be",
   "metadata": {},
   "outputs": [
    {
     "data": {
      "text/plain": [
       "['트와이스', '블랙핑크', '여자친구', '오마이걸', '소녀시대', '잇지', '레드밸벳', '에이핑크', '우주소녀']"
      ]
     },
     "execution_count": 19,
     "metadata": {},
     "output_type": "execute_result"
    }
   ],
   "source": [
    "member_names = []\n",
    "\n",
    "#. 데이터 딕셔너리를 사용하면 내가 원하는 데이터만 쉽게 가져올 수 있게 됩니다.\n",
    "for data in datas:\n",
    "    name = data['name']\n",
    "    member_names.append(name)\n",
    "    \n",
    "member_names"
   ]
  }
 ],
 "metadata": {
  "kernelspec": {
   "display_name": "Python 3 (ipykernel)",
   "language": "python",
   "name": "python3"
  },
  "language_info": {
   "codemirror_mode": {
    "name": "ipython",
    "version": 3
   },
   "file_extension": ".py",
   "mimetype": "text/x-python",
   "name": "python",
   "nbconvert_exporter": "python",
   "pygments_lexer": "ipython3",
   "version": "3.9.13"
  }
 },
 "nbformat": 4,
 "nbformat_minor": 5
}
